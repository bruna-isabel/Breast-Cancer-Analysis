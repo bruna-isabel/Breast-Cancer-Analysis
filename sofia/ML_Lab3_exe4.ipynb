{
 "metadata": {
  "language_info": {
   "codemirror_mode": {
    "name": "ipython",
    "version": 3
   },
   "file_extension": ".py",
   "mimetype": "text/x-python",
   "name": "python",
   "nbconvert_exporter": "python",
   "pygments_lexer": "ipython3",
   "version": "3.8.5-final"
  },
  "orig_nbformat": 2,
  "kernelspec": {
   "name": "Python 3.8.5 64-bit ('ML_Labs': conda)",
   "display_name": "Python 3.8.5 64-bit ('ML_Labs': conda)",
   "metadata": {
    "interpreter": {
     "hash": "c5611cf42acaf4f712a4c3ce1aeac89a0ac68560d6b2b113d425f23611a8ed45"
    }
   }
  }
 },
 "nbformat": 4,
 "nbformat_minor": 2,
 "cells": [
  {
   "cell_type": "code",
   "execution_count": 41,
   "metadata": {},
   "outputs": [],
   "source": [
    "from sklearn.datasets import load_digits\n",
    "from matplotlib import pyplot as plt\n",
    "from sklearn.linear_model import LogisticRegression\n",
    "from sklearn.model_selection import train_test_split\n",
    "from sklearn.preprocessing import StandardScaler\n",
    "import pandas as pd\n",
    "import numpy as np\n",
    "\n",
    "#shows visualization in line -> replaces plt.show\n",
    "%matplotlib inline\n"
   ]
  },
  {
   "cell_type": "code",
   "execution_count": 42,
   "metadata": {},
   "outputs": [],
   "source": [
    "dt = load_digits()"
   ]
  },
  {
   "cell_type": "code",
   "execution_count": 43,
   "metadata": {},
   "outputs": [
    {
     "output_type": "stream",
     "name": "stdout",
     "text": [
      "Shape of X: (1797, 64)\nShape of y: (1797,)\n"
     ]
    }
   ],
   "source": [
    "X = dt.data\n",
    "y = dt.target\n",
    "\n",
    "print(f\"Shape of X: {X.shape}\")\n",
    "print(f\"Shape of y: {y.shape}\")"
   ]
  },
  {
   "cell_type": "code",
   "execution_count": 44,
   "metadata": {},
   "outputs": [],
   "source": [
    "X_train, X_test, y_train, y_test = train_test_split(X,y, test_size=0.3, random_state=0)"
   ]
  },
  {
   "cell_type": "code",
   "execution_count": 45,
   "metadata": {},
   "outputs": [],
   "source": [
    "model = LogisticRegression().fit(X_train, y_train)"
   ]
  },
  {
   "cell_type": "code",
   "execution_count": 46,
   "metadata": {},
   "outputs": [
    {
     "output_type": "stream",
     "name": "stdout",
     "text": [
      "y_test_pred: \n [2 8 2 6 6]\n\n\ny_test: \n [2 8 2 6 6]\n"
     ]
    }
   ],
   "source": [
    "y_test_pred = model.predict(X_test)\n",
    "\n",
    "print(\"y_test_pred: \\n\", y_test_pred[0:5])\n",
    "print(\"\\n\")\n",
    "print(\"y_test: \\n\", y_test[0:5])"
   ]
  },
  {
   "cell_type": "code",
   "execution_count": 47,
   "metadata": {},
   "outputs": [
    {
     "output_type": "stream",
     "name": "stdout",
     "text": [
      "x_train_scaler: \n [ 0.         -0.34338378 -1.09642621 -0.88717562 -0.42825571  1.43845406\n  0.49363934 -0.12501886 -0.05963551 -0.3151569   0.47849512  0.21918793\n -0.28691819  0.6197714   1.76922825 -0.12614188 -0.03992024  0.96822696\n  1.0921471   0.14757351  0.14198996  1.32778473  0.70793513 -0.11294863\n -0.02821663  0.80906081  1.10876452  1.21974443  0.98975536  0.26282114\n -0.64074225 -0.03992024  0.         -0.67349682 -0.41365522 -0.16812017\n  0.62783539  0.5664439  -0.82668859  0.         -0.06209797 -0.53059473\n -1.06319169 -0.66713857  1.31816087 -0.55060546 -0.7726095  -0.09516311\n -0.04237744 -0.40873595 -1.33984381  1.01453563 -0.30892748 -1.43653873\n -0.7348467  -0.19859912 -0.02821663 -0.30739208 -0.90153224 -0.01866477\n -1.98373642 -1.12193961 -0.48894777 -0.18556033]\n\n\nx_test_scaler: \n [ 0.  0. 11. 16. 15.  3.  0.  0.  0.  5. 16. 12. 11. 13.  0.  0.  0.  3.\n 13.  1.  5. 15.  0.  0.  0.  0.  0.  0. 12. 11.  0.  0.  0.  0.  0.  1.\n 16.  7.  0.  0.  0.  0.  0. 10. 15.  0.  0.  0.  0.  0. 12. 16. 16. 11.\n  1.  0.  0.  0. 13. 13.  8. 13. 16.  8.]\n"
     ]
    }
   ],
   "source": [
    "x_train_scaler = StandardScaler().fit_transform(X_train)\n",
    "x_test_scaler = StandardScaler().fit_transform(X_test)\n",
    "\n",
    "print(f\"x_train_scaler: \\n {x_train_scaler[0]}\")\n",
    "print(\"\\n\")\n",
    "print(f\"x_test_scaler: \\n {(X_test[0])}\") "
   ]
  },
  {
   "cell_type": "code",
   "execution_count": 50,
   "metadata": {},
   "outputs": [
    {
     "output_type": "stream",
     "name": "stdout",
     "text": [
      "Model accuracy1 with threshold set to 0.9: \n 0.954\n"
     ]
    }
   ],
   "source": [
    "#testing acuracy of the model\n",
    "acc = model.score(X_test, y_test)\n",
    "print(f\"Model accuracy: \\n {acc:.03}\")"
   ]
  }
 ]
}